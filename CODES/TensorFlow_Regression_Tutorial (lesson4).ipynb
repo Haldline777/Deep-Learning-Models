{
 "cells": [
  {
   "cell_type": "markdown",
   "id": "b368a17f",
   "metadata": {},
   "source": [
    "\n",
    "# 📘 TensorFlow Introduction and Linear Regression Example\n",
    "\n",
    "This notebook provides an introduction to TensorFlow, covering core concepts like computational graphs and tensors, followed by a practical example of linear regression using gradient descent.\n"
   ]
  },
  {
   "cell_type": "code",
   "execution_count": null,
   "id": "7135bd91",
   "metadata": {},
   "outputs": [],
   "source": [
    "\n",
    "import tensorflow as tf\n",
    "import numpy as np\n"
   ]
  },
  {
   "cell_type": "markdown",
   "id": "ac168bff",
   "metadata": {},
   "source": [
    "\n",
    "We import TensorFlow for building and training the model, and NumPy to handle numerical arrays.\n"
   ]
  },
  {
   "cell_type": "code",
   "execution_count": null,
   "id": "86994e09",
   "metadata": {},
   "outputs": [],
   "source": [
    "\n",
    "# Sample data: y = 3x + 2\n",
    "X_train = np.array([1, 2, 3, 4, 5], dtype=np.float32)\n",
    "y_train = np.array([5, 8, 11, 14, 17], dtype=np.float32)\n"
   ]
  },
  {
   "cell_type": "markdown",
   "id": "170ed771",
   "metadata": {},
   "source": [
    "\n",
    "This dataset represents a simple linear relationship: \\( y = 3x + 2 \\). We will train a model to learn this relationship.\n"
   ]
  },
  {
   "cell_type": "code",
   "execution_count": null,
   "id": "9d775fae",
   "metadata": {},
   "outputs": [],
   "source": [
    "\n",
    "# Initialize weights and bias\n",
    "W = tf.Variable(0.0)\n",
    "b = tf.Variable(0.0)\n",
    "\n",
    "# Learning rate and optimizer\n",
    "learning_rate = 0.01\n",
    "optimizer = tf.optimizers.SGD(learning_rate=learning_rate)\n"
   ]
  },
  {
   "cell_type": "markdown",
   "id": "abca7e4b",
   "metadata": {},
   "source": [
    "\n",
    "We initialize our model parameters (weight and bias) and choose the SGD (Stochastic Gradient Descent) optimizer with a learning rate of 0.01.\n"
   ]
  },
  {
   "cell_type": "code",
   "execution_count": null,
   "id": "bf4c297b",
   "metadata": {},
   "outputs": [],
   "source": [
    "\n",
    "# Training loop\n",
    "for i in range(1000):\n",
    "    with tf.GradientTape() as tape:\n",
    "        predictions = W * X_train + b\n",
    "        loss = tf.reduce_mean(tf.square(predictions - y_train))  # MSE\n",
    "\n",
    "    gradients = tape.gradient(loss, [W, b])\n",
    "    optimizer.apply_gradients(zip(gradients, [W, b]))\n"
   ]
  },
  {
   "cell_type": "markdown",
   "id": "4180be2d",
   "metadata": {},
   "source": [
    "\n",
    "We train the model by minimizing the Mean Squared Error (MSE) using gradient descent for 1000 iterations.\n"
   ]
  },
  {
   "cell_type": "code",
   "execution_count": null,
   "id": "c6fe6e35",
   "metadata": {},
   "outputs": [],
   "source": [
    "\n",
    "# Results\n",
    "print(f\"Trained parameters: W = {W.numpy():.4f}, b = {b.numpy():.4f}\")\n",
    "print(f\"Prediction for x = 6: y = {W.numpy()*6 + b.numpy():.2f}\")\n"
   ]
  },
  {
   "cell_type": "markdown",
   "id": "8cdfb1ff",
   "metadata": {},
   "source": [
    "\n",
    "After training, we print the learned parameters and use the model to make a prediction for \\( x = 6 \\).\n",
    "Expected output: \\( y \\approx 20.0 \\).\n"
   ]
  },
  {
   "cell_type": "code",
   "execution_count": null,
   "id": "3d705dcc",
   "metadata": {},
   "outputs": [],
   "source": [
    "\n",
    "# Creating tensors\n",
    "a = tf.constant([[1, 2], [3, 4]])\n",
    "print(a)\n"
   ]
  },
  {
   "cell_type": "markdown",
   "id": "eada93b5",
   "metadata": {},
   "source": [
    "\n",
    "TensorFlow tensors are multidimensional arrays. Here we create a 2x2 tensor.\n"
   ]
  },
  {
   "cell_type": "code",
   "execution_count": null,
   "id": "449d5435",
   "metadata": {},
   "outputs": [],
   "source": [
    "\n",
    "# Build and compile a simple neural network model\n",
    "model = tf.keras.Sequential([\n",
    "    tf.keras.layers.Dense(10, activation='relu', input_shape=(4,)),\n",
    "    tf.keras.layers.Dense(1)\n",
    "])\n",
    "model.compile(optimizer='adam', loss='mse')\n"
   ]
  },
  {
   "cell_type": "markdown",
   "id": "6f49ad24",
   "metadata": {},
   "source": [
    "\n",
    "We use Keras (high-level API in TensorFlow) to define a simple feedforward neural network with two layers.\n",
    "- Input shape is 4 features.\n",
    "- First layer: 10 neurons with ReLU activation.\n",
    "- Output layer: 1 neuron for regression output.\n"
   ]
  }
 ],
 "metadata": {},
 "nbformat": 4,
 "nbformat_minor": 5
}