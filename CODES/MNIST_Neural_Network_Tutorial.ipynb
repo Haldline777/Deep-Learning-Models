{
 "cells": [
  {
   "cell_type": "markdown",
   "id": "6b206c0a",
   "metadata": {},
   "source": [
    "\n",
    "# 🧠 MNIST Handwritten Digit Classification with TensorFlow/Keras\n",
    "\n",
    "This notebook builds and trains a simple neural network to classify handwritten digits (0–9) using the MNIST dataset. \n",
    "It covers data preprocessing, model definition, training, evaluation, and prediction visualization.\n"
   ]
  },
  {
   "cell_type": "code",
   "execution_count": null,
   "id": "533235d5",
   "metadata": {},
   "outputs": [],
   "source": [
    "\n",
    "import tensorflow as tf\n",
    "from tensorflow import keras\n",
    "import numpy as np\n",
    "import matplotlib.pyplot as plt\n"
   ]
  },
  {
   "cell_type": "markdown",
   "id": "17ba9f0e",
   "metadata": {},
   "source": [
    "\n",
    "We import TensorFlow and its Keras API for building the model, NumPy for numerical computations, and Matplotlib for data visualization.\n"
   ]
  },
  {
   "cell_type": "code",
   "execution_count": null,
   "id": "817174e7",
   "metadata": {},
   "outputs": [],
   "source": [
    "\n",
    "mnist = keras.datasets.mnist\n",
    "(x_train, y_train), (x_test, y_test) = mnist.load_data()\n",
    "x_train, x_test = x_train / 255.0, x_test / 255.0\n"
   ]
  },
  {
   "cell_type": "markdown",
   "id": "f0b2a9c8",
   "metadata": {},
   "source": [
    "\n",
    "This section loads the MNIST dataset and normalizes the images by scaling pixel values from [0, 255] to [0, 1], which helps in faster and more stable training.\n"
   ]
  },
  {
   "cell_type": "code",
   "execution_count": null,
   "id": "03168140",
   "metadata": {},
   "outputs": [],
   "source": [
    "\n",
    "model = keras.Sequential([\n",
    "    keras.layers.Flatten(input_shape=(28, 28)),\n",
    "    keras.layers.Dense(128, activation='relu'),\n",
    "    keras.layers.Dropout(0.2),\n",
    "    keras.layers.Dense(10, activation='softmax')\n",
    "])\n"
   ]
  },
  {
   "cell_type": "markdown",
   "id": "bf7cc468",
   "metadata": {},
   "source": [
    "\n",
    "We use a sequential model with:\n",
    "- A `Flatten` layer to reshape input images\n",
    "- A `Dense` hidden layer with ReLU activation\n",
    "- A `Dropout` layer to improve generalization\n",
    "- An output `Dense` layer with softmax activation to output probabilities for each digit class (0-9).\n"
   ]
  },
  {
   "cell_type": "code",
   "execution_count": null,
   "id": "36bea671",
   "metadata": {},
   "outputs": [],
   "source": [
    "\n",
    "model.compile(\n",
    "    optimizer='adam',\n",
    "    loss='sparse_categorical_crossentropy',\n",
    "    metrics=['accuracy']\n",
    ")\n"
   ]
  },
  {
   "cell_type": "markdown",
   "id": "61418ea9",
   "metadata": {},
   "source": [
    "\n",
    "Compiling prepares the model for training:\n",
    "- `Adam` is an efficient optimizer.\n",
    "- `Sparse categorical crossentropy` is used for integer labels.\n",
    "- We monitor accuracy as the performance metric.\n"
   ]
  },
  {
   "cell_type": "code",
   "execution_count": null,
   "id": "961b4e3b",
   "metadata": {},
   "outputs": [],
   "source": [
    "\n",
    "model.fit(\n",
    "    x_train, y_train,\n",
    "    epochs=10,\n",
    "    validation_data=(x_test, y_test)\n",
    ")\n"
   ]
  },
  {
   "cell_type": "markdown",
   "id": "3a4e9bd9",
   "metadata": {},
   "source": [
    "\n",
    "We train the model for 10 epochs (iterations over the full training dataset) and validate on the test data.\n"
   ]
  },
  {
   "cell_type": "code",
   "execution_count": null,
   "id": "3b7bd04e",
   "metadata": {},
   "outputs": [],
   "source": [
    "\n",
    "test_loss, test_acc = model.evaluate(x_test, y_test)\n",
    "print(f\"Test Accuracy: {test_acc:.4f}\")\n"
   ]
  },
  {
   "cell_type": "markdown",
   "id": "6184ccc1",
   "metadata": {},
   "source": [
    "\n",
    "This step evaluates the model’s performance on the unseen test dataset and prints the accuracy.\n"
   ]
  },
  {
   "cell_type": "code",
   "execution_count": null,
   "id": "1ab538a6",
   "metadata": {},
   "outputs": [],
   "source": [
    "\n",
    "predictions = model.predict(x_test)\n"
   ]
  },
  {
   "cell_type": "markdown",
   "id": "fc014cf0",
   "metadata": {},
   "source": [
    "\n",
    "We generate predictions for the test dataset. Each prediction is an array of 10 probabilities (one for each class).\n"
   ]
  },
  {
   "cell_type": "code",
   "execution_count": null,
   "id": "71351687",
   "metadata": {},
   "outputs": [],
   "source": [
    "\n",
    "plt.imshow(x_test[0], cmap=plt.cm.binary)\n",
    "plt.title(f\"Predicted Label: {np.argmax(predictions[0])}\")\n",
    "plt.axis('off')\n",
    "plt.show()\n"
   ]
  },
  {
   "cell_type": "markdown",
   "id": "539bc285",
   "metadata": {},
   "source": [
    "\n",
    "This code displays the first test image and shows the predicted digit using `argmax` to find the class with the highest probability.\n"
   ]
  }
 ],
 "metadata": {
  "language_info": {
   "name": "python"
  }
 },
 "nbformat": 4,
 "nbformat_minor": 5
}
