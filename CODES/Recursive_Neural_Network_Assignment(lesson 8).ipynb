{
 "cells": [
  {
   "cell_type": "markdown",
   "id": "03e1f1d8",
   "metadata": {},
   "source": [
    "\n",
    "# 🌲 Recursive Neural Network (RecNN) for Sentiment Classification\n",
    "\n",
    "This notebook demonstrates how to simulate a **Recursive Neural Network (RecNN)** in PyTorch for structured input, such as parse trees. The task is to classify sentiment using a simplified binary tree structure.\n",
    "\n",
    "---\n"
   ]
  },
  {
   "cell_type": "code",
   "execution_count": null,
   "id": "47430f4e",
   "metadata": {},
   "outputs": [],
   "source": [
    "\n",
    "import torch\n",
    "import torch.nn as nn\n",
    "import torch.nn.functional as F\n"
   ]
  },
  {
   "cell_type": "code",
   "execution_count": null,
   "id": "a3aebe2a",
   "metadata": {},
   "outputs": [],
   "source": [
    "\n",
    "# Define a binary tree node\n",
    "class TreeNode:\n",
    "    def __init__(self, left=None, right=None, value=None):\n",
    "        self.left = left\n",
    "        self.right = right\n",
    "        self.value = value  # Word index or embedding input\n"
   ]
  },
  {
   "cell_type": "code",
   "execution_count": null,
   "id": "fe685bde",
   "metadata": {},
   "outputs": [],
   "source": [
    "\n",
    "# Define Recursive Neural Network\n",
    "class RecNN(nn.Module):\n",
    "    def __init__(self, input_dim, hidden_dim):\n",
    "        super(RecNN, self).__init__()\n",
    "        self.W = nn.Linear(2 * hidden_dim, hidden_dim)\n",
    "        self.embedding = nn.Embedding(10000, input_dim)\n",
    "        self.projection = nn.Linear(input_dim, hidden_dim)\n",
    "\n",
    "    def forward(self, node):\n",
    "        if node.left is None and node.right is None:\n",
    "            embed = self.embedding(torch.tensor([node.value]))\n",
    "            return self.projection(embed).squeeze(0)\n",
    "        else:\n",
    "            left_vec = self.forward(node.left)\n",
    "            right_vec = self.forward(node.right)\n",
    "            combined = torch.cat((left_vec, right_vec), dim=-1)\n",
    "            return F.relu(self.W(combined))\n"
   ]
  },
  {
   "cell_type": "code",
   "execution_count": null,
   "id": "0027aced",
   "metadata": {},
   "outputs": [],
   "source": [
    "\n",
    "# Simulate a binary tree: (great (not movie))\n",
    "left_leaf = TreeNode(value=2)   # \"not\"\n",
    "right_leaf = TreeNode(value=3)  # \"movie\"\n",
    "intermediate = TreeNode(left=left_leaf, right=right_leaf)\n",
    "root = TreeNode(left=TreeNode(value=1), right=intermediate)  # \"great\"\n",
    "\n",
    "# Create the model and get sentence vector\n",
    "model = RecNN(input_dim=50, hidden_dim=64)\n",
    "sentence_vector = model(root)\n",
    "print(\"Final representation vector:\", sentence_vector)\n"
   ]
  }
 ],
 "metadata": {},
 "nbformat": 4,
 "nbformat_minor": 5
}
