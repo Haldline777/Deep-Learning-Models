{
 "cells": [
  {
   "cell_type": "markdown",
   "id": "6b72385f",
   "metadata": {},
   "source": [
    "# 🔁 RNN for Text Sentiment Classification\n",
    "This notebook demonstrates how to build a simple RNN using TensorFlow and Keras to classify the sentiment of movie reviews from the IMDB dataset."
   ]
  },
  {
   "cell_type": "code",
   "execution_count": null,
   "id": "b1d726e1",
   "metadata": {},
   "outputs": [],
   "source": [
    "from tensorflow.keras.models import Sequential\n",
    "from tensorflow.keras.layers import Embedding, SimpleRNN, Dense\n",
    "from tensorflow.keras.datasets import imdb\n",
    "from tensorflow.keras.preprocessing.sequence import pad_sequences"
   ]
  },
  {
   "cell_type": "markdown",
   "id": "cd927da8",
   "metadata": {},
   "source": [
    "**Explanation:**\n",
    "- Load dataset and layers from TensorFlow\n",
    "- Use `pad_sequences` to prepare inputs for RNN"
   ]
  },
  {
   "cell_type": "code",
   "execution_count": null,
   "id": "94c8265c",
   "metadata": {},
   "outputs": [],
   "source": [
    "# Load dataset with top 10,000 most frequent words\n",
    "vocab_size = 10000\n",
    "(x_train, y_train), (x_test, y_test) = imdb.load_data(num_words=vocab_size)\n",
    "\n",
    "# Pad sequences to fixed length\n",
    "maxlen = 500\n",
    "x_train = pad_sequences(x_train, maxlen=maxlen)\n",
    "x_test = pad_sequences(x_test, maxlen=maxlen)"
   ]
  },
  {
   "cell_type": "markdown",
   "id": "5d9919bd",
   "metadata": {},
   "source": [
    "**Explanation:**\n",
    "- Each review is converted to a sequence of integers (tokens)\n",
    "- Sequences are padded to the same length for batch processing"
   ]
  },
  {
   "cell_type": "code",
   "execution_count": null,
   "id": "9073542c",
   "metadata": {},
   "outputs": [],
   "source": [
    "# Build RNN model\n",
    "model = Sequential()\n",
    "model.add(Embedding(vocab_size, 32))      # Embedding layer\n",
    "model.add(SimpleRNN(32))                  # RNN layer\n",
    "model.add(Dense(1, activation='sigmoid')) # Output layer for binary classification"
   ]
  },
  {
   "cell_type": "markdown",
   "id": "88966325",
   "metadata": {},
   "source": [
    "**Explanation:**\n",
    "- `Embedding`: Maps word indices to dense vectors\n",
    "- `SimpleRNN`: Processes sequences, keeps memory of past tokens\n",
    "- `Dense`: Predicts sentiment (positive/negative)"
   ]
  },
  {
   "cell_type": "code",
   "execution_count": null,
   "id": "5360602a",
   "metadata": {},
   "outputs": [],
   "source": [
    "model.compile(loss='binary_crossentropy', optimizer='adam', metrics=['accuracy'])\n",
    "history = model.fit(x_train, y_train, epochs=5, batch_size=64, validation_data=(x_test, y_test))"
   ]
  },
  {
   "cell_type": "markdown",
   "id": "534f5caf",
   "metadata": {},
   "source": [
    "**Explanation:**\n",
    "- Loss function: binary crossentropy (since it's binary classification)\n",
    "- Optimizer: Adam\n",
    "- Trained for 5 epochs with batch size of 64"
   ]
  },
  {
   "cell_type": "markdown",
   "id": "1b926ecc",
   "metadata": {},
   "source": [
    "## 📈 Visualize Training History"
   ]
  },
  {
   "cell_type": "code",
   "execution_count": null,
   "id": "b75fc4f9",
   "metadata": {},
   "outputs": [],
   "source": [
    "import matplotlib.pyplot as plt\n",
    "\n",
    "plt.figure(figsize=(12, 4))\n",
    "plt.subplot(1, 2, 1)\n",
    "plt.plot(history.history['accuracy'], label='Train Accuracy')\n",
    "plt.plot(history.history['val_accuracy'], label='Validation Accuracy')\n",
    "plt.title('Model Accuracy')\n",
    "plt.xlabel('Epoch')\n",
    "plt.ylabel('Accuracy')\n",
    "plt.legend()\n",
    "\n",
    "plt.subplot(1, 2, 2)\n",
    "plt.plot(history.history['loss'], label='Train Loss')\n",
    "plt.plot(history.history['val_loss'], label='Validation Loss')\n",
    "plt.title('Model Loss')\n",
    "plt.xlabel('Epoch')\n",
    "plt.ylabel('Loss')\n",
    "plt.legend()\n",
    "\n",
    "plt.tight_layout()\n",
    "plt.show()"
   ]
  },
  {
   "cell_type": "markdown",
   "id": "950f2bfc",
   "metadata": {},
   "source": [
    "## 📊 Confusion Matrix"
   ]
  },
  {
   "cell_type": "code",
   "execution_count": null,
   "id": "bc778452",
   "metadata": {},
   "outputs": [],
   "source": [
    "from sklearn.metrics import confusion_matrix, ConfusionMatrixDisplay\n",
    "import numpy as np\n",
    "\n",
    "# Predict classes\n",
    "y_pred_prob = model.predict(x_test)\n",
    "y_pred = (y_pred_prob > 0.5).astype(\"int32\")\n",
    "\n",
    "# Plot confusion matrix\n",
    "cm = confusion_matrix(y_test, y_pred)\n",
    "disp = ConfusionMatrixDisplay(confusion_matrix=cm, display_labels=[\"Negative\", \"Positive\"])\n",
    "disp.plot(cmap='Blues')\n",
    "plt.title('Confusion Matrix')\n",
    "plt.show()"
   ]
  }
 ],
 "metadata": {},
 "nbformat": 4,
 "nbformat_minor": 5
}
